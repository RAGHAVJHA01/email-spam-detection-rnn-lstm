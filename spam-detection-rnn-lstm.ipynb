{
 "cells": [
  {
   "cell_type": "code",
   "execution_count": 1,
   "metadata": {
    "_cell_guid": "b1076dfc-b9ad-4769-8c92-a6c4dae69d19",
    "_uuid": "8f2839f25d086af736a60e9eeb907d3b93b6e0e5",
    "execution": {
     "iopub.execute_input": "2021-01-12T08:14:16.376583Z",
     "iopub.status.busy": "2021-01-12T08:14:16.375519Z",
     "iopub.status.idle": "2021-01-12T08:14:24.425394Z",
     "shell.execute_reply": "2021-01-12T08:14:24.426094Z"
    },
    "papermill": {
     "duration": 8.069513,
     "end_time": "2021-01-12T08:14:24.426307",
     "exception": false,
     "start_time": "2021-01-12T08:14:16.356794",
     "status": "completed"
    },
    "tags": []
   },
   "outputs": [
    {
     "name": "stdout",
     "output_type": "stream",
     "text": [
      "/kaggle/input/sms-spam-collection-dataset/spam.csv\n"
     ]
    }
   ],
   "source": [
    "import numpy as np # linear algebra\n",
    "import pandas as pd \n",
    "import matplotlib.pyplot as plt\n",
    "import seaborn as sns\n",
    "from sklearn.model_selection import train_test_split\n",
    "from sklearn.preprocessing import LabelEncoder\n",
    "from keras.models import Model\n",
    "from keras.layers import LSTM, Activation, Dense, Dropout, Input, Embedding\n",
    "from keras.optimizers import RMSprop\n",
    "from keras.preprocessing.text import Tokenizer\n",
    "from keras.preprocessing import sequence\n",
    "from keras.utils import to_categorical\n",
    "from keras.callbacks import EarlyStopping\n",
    "%matplotlib inline\n",
    "import os\n",
    "for dirname, _, filenames in os.walk('/kaggle/input'):\n",
    "    for filename in filenames:\n",
    "        print(os.path.join(dirname, filename))"
   ]
  },
  {
   "cell_type": "code",
   "execution_count": 2,
   "metadata": {
    "_cell_guid": "79c7e3d0-c299-4dcb-8224-4455121ee9b0",
    "_uuid": "d629ff2d2480ee46fbb7e2d37f6b5fab8052498a",
    "execution": {
     "iopub.execute_input": "2021-01-12T08:14:24.457841Z",
     "iopub.status.busy": "2021-01-12T08:14:24.456839Z",
     "iopub.status.idle": "2021-01-12T08:14:24.515922Z",
     "shell.execute_reply": "2021-01-12T08:14:24.516522Z"
    },
    "papermill": {
     "duration": 0.076119,
     "end_time": "2021-01-12T08:14:24.516658",
     "exception": false,
     "start_time": "2021-01-12T08:14:24.440539",
     "status": "completed"
    },
    "tags": []
   },
   "outputs": [
    {
     "data": {
      "text/html": [
       "<div>\n",
       "<style scoped>\n",
       "    .dataframe tbody tr th:only-of-type {\n",
       "        vertical-align: middle;\n",
       "    }\n",
       "\n",
       "    .dataframe tbody tr th {\n",
       "        vertical-align: top;\n",
       "    }\n",
       "\n",
       "    .dataframe thead th {\n",
       "        text-align: right;\n",
       "    }\n",
       "</style>\n",
       "<table border=\"1\" class=\"dataframe\">\n",
       "  <thead>\n",
       "    <tr style=\"text-align: right;\">\n",
       "      <th></th>\n",
       "      <th>v1</th>\n",
       "      <th>v2</th>\n",
       "      <th>Unnamed: 2</th>\n",
       "      <th>Unnamed: 3</th>\n",
       "      <th>Unnamed: 4</th>\n",
       "    </tr>\n",
       "  </thead>\n",
       "  <tbody>\n",
       "    <tr>\n",
       "      <th>0</th>\n",
       "      <td>ham</td>\n",
       "      <td>Go until jurong point, crazy.. Available only ...</td>\n",
       "      <td>NaN</td>\n",
       "      <td>NaN</td>\n",
       "      <td>NaN</td>\n",
       "    </tr>\n",
       "    <tr>\n",
       "      <th>1</th>\n",
       "      <td>ham</td>\n",
       "      <td>Ok lar... Joking wif u oni...</td>\n",
       "      <td>NaN</td>\n",
       "      <td>NaN</td>\n",
       "      <td>NaN</td>\n",
       "    </tr>\n",
       "    <tr>\n",
       "      <th>2</th>\n",
       "      <td>spam</td>\n",
       "      <td>Free entry in 2 a wkly comp to win FA Cup fina...</td>\n",
       "      <td>NaN</td>\n",
       "      <td>NaN</td>\n",
       "      <td>NaN</td>\n",
       "    </tr>\n",
       "    <tr>\n",
       "      <th>3</th>\n",
       "      <td>ham</td>\n",
       "      <td>U dun say so early hor... U c already then say...</td>\n",
       "      <td>NaN</td>\n",
       "      <td>NaN</td>\n",
       "      <td>NaN</td>\n",
       "    </tr>\n",
       "    <tr>\n",
       "      <th>4</th>\n",
       "      <td>ham</td>\n",
       "      <td>Nah I don't think he goes to usf, he lives aro...</td>\n",
       "      <td>NaN</td>\n",
       "      <td>NaN</td>\n",
       "      <td>NaN</td>\n",
       "    </tr>\n",
       "  </tbody>\n",
       "</table>\n",
       "</div>"
      ],
      "text/plain": [
       "     v1                                                 v2 Unnamed: 2  \\\n",
       "0   ham  Go until jurong point, crazy.. Available only ...        NaN   \n",
       "1   ham                      Ok lar... Joking wif u oni...        NaN   \n",
       "2  spam  Free entry in 2 a wkly comp to win FA Cup fina...        NaN   \n",
       "3   ham  U dun say so early hor... U c already then say...        NaN   \n",
       "4   ham  Nah I don't think he goes to usf, he lives aro...        NaN   \n",
       "\n",
       "  Unnamed: 3 Unnamed: 4  \n",
       "0        NaN        NaN  \n",
       "1        NaN        NaN  \n",
       "2        NaN        NaN  \n",
       "3        NaN        NaN  \n",
       "4        NaN        NaN  "
      ]
     },
     "execution_count": 2,
     "metadata": {},
     "output_type": "execute_result"
    }
   ],
   "source": [
    "df = pd.read_csv('../input/sms-spam-collection-dataset/spam.csv',delimiter=',',encoding='latin-1')\n",
    "df.head(5)"
   ]
  },
  {
   "cell_type": "code",
   "execution_count": 3,
   "metadata": {
    "execution": {
     "iopub.execute_input": "2021-01-12T08:14:24.550276Z",
     "iopub.status.busy": "2021-01-12T08:14:24.549250Z",
     "iopub.status.idle": "2021-01-12T08:14:24.567863Z",
     "shell.execute_reply": "2021-01-12T08:14:24.568417Z"
    },
    "papermill": {
     "duration": 0.038018,
     "end_time": "2021-01-12T08:14:24.568578",
     "exception": false,
     "start_time": "2021-01-12T08:14:24.530560",
     "status": "completed"
    },
    "tags": []
   },
   "outputs": [
    {
     "name": "stdout",
     "output_type": "stream",
     "text": [
      "<class 'pandas.core.frame.DataFrame'>\n",
      "RangeIndex: 5572 entries, 0 to 5571\n",
      "Data columns (total 2 columns):\n",
      " #   Column  Non-Null Count  Dtype \n",
      "---  ------  --------------  ----- \n",
      " 0   v1      5572 non-null   object\n",
      " 1   v2      5572 non-null   object\n",
      "dtypes: object(2)\n",
      "memory usage: 87.2+ KB\n"
     ]
    }
   ],
   "source": [
    "df.drop(['Unnamed: 2', 'Unnamed: 3', 'Unnamed: 4'],axis=1,inplace=True)\n",
    "df.info()"
   ]
  },
  {
   "cell_type": "code",
   "execution_count": 4,
   "metadata": {
    "execution": {
     "iopub.execute_input": "2021-01-12T08:14:24.602195Z",
     "iopub.status.busy": "2021-01-12T08:14:24.601456Z",
     "iopub.status.idle": "2021-01-12T08:14:24.606677Z",
     "shell.execute_reply": "2021-01-12T08:14:24.606001Z"
    },
    "papermill": {
     "duration": 0.023776,
     "end_time": "2021-01-12T08:14:24.606814",
     "exception": false,
     "start_time": "2021-01-12T08:14:24.583038",
     "status": "completed"
    },
    "tags": []
   },
   "outputs": [
    {
     "data": {
      "text/plain": [
       "(5572, 2)"
      ]
     },
     "execution_count": 4,
     "metadata": {},
     "output_type": "execute_result"
    }
   ],
   "source": [
    "df.shape"
   ]
  },
  {
   "cell_type": "code",
   "execution_count": 5,
   "metadata": {
    "execution": {
     "iopub.execute_input": "2021-01-12T08:14:24.644974Z",
     "iopub.status.busy": "2021-01-12T08:14:24.643939Z",
     "iopub.status.idle": "2021-01-12T08:14:24.822800Z",
     "shell.execute_reply": "2021-01-12T08:14:24.822193Z"
    },
    "papermill": {
     "duration": 0.200098,
     "end_time": "2021-01-12T08:14:24.822915",
     "exception": false,
     "start_time": "2021-01-12T08:14:24.622817",
     "status": "completed"
    },
    "tags": []
   },
   "outputs": [
    {
     "data": {
      "text/plain": [
       "Text(0.5, 1.0, 'Number of ham and spam messages')"
      ]
     },
     "execution_count": 5,
     "metadata": {},
     "output_type": "execute_result"
    },
    {
     "data": {
      "image/png": "[encoded data removed]",
      "text/plain": [
       "<Figure size 432x288 with 1 Axes>"
      ]
     },
     "metadata": {
      "needs_background": "light"
     },
     "output_type": "display_data"
    }
   ],
   "source": [
    "sns.countplot(df.v1)\n",
    "plt.xlabel('Label')\n",
    "plt.title('Number of ham and spam messages')"
   ]
  },
  {
   "cell_type": "code",
   "execution_count": 6,
   "metadata": {
    "execution": {
     "iopub.execute_input": "2021-01-12T08:14:24.861666Z",
     "iopub.status.busy": "2021-01-12T08:14:24.860827Z",
     "iopub.status.idle": "2021-01-12T08:14:25.587195Z",
     "shell.execute_reply": "2021-01-12T08:14:25.585429Z"
    },
    "papermill": {
     "duration": 0.747988,
     "end_time": "2021-01-12T08:14:25.587327",
     "exception": false,
     "start_time": "2021-01-12T08:14:24.839339",
     "status": "completed"
    },
    "tags": []
   },
   "outputs": [],
   "source": [
    "from nltk.corpus import stopwords\n",
    "from nltk.stem import SnowballStemmer"
   ]
  },
  {
   "cell_type": "code",
   "execution_count": 7,
   "metadata": {
    "execution": {
     "iopub.execute_input": "2021-01-12T08:14:25.630937Z",
     "iopub.status.busy": "2021-01-12T08:14:25.630217Z",
     "iopub.status.idle": "2021-01-12T08:14:25.642675Z",
     "shell.execute_reply": "2021-01-12T08:14:25.642076Z"
    },
    "papermill": {
     "duration": 0.038819,
     "end_time": "2021-01-12T08:14:25.642816",
     "exception": false,
     "start_time": "2021-01-12T08:14:25.603997",
     "status": "completed"
    },
    "tags": []
   },
   "outputs": [],
   "source": [
    "stop_words = stopwords.words('english')\n",
    "stemmer = SnowballStemmer('english')"
   ]
  },
  {
   "cell_type": "code",
   "execution_count": 8,
   "metadata": {
    "execution": {
     "iopub.execute_input": "2021-01-12T08:14:25.680802Z",
     "iopub.status.busy": "2021-01-12T08:14:25.679726Z",
     "iopub.status.idle": "2021-01-12T08:14:25.684247Z",
     "shell.execute_reply": "2021-01-12T08:14:25.684730Z"
    },
    "papermill": {
     "duration": 0.025081,
     "end_time": "2021-01-12T08:14:25.684907",
     "exception": false,
     "start_time": "2021-01-12T08:14:25.659826",
     "status": "completed"
    },
    "tags": []
   },
   "outputs": [],
   "source": [
    "text_cleaning_re = \"@\\S+|A-Za-z0-9]+\""
   ]
  },
  {
   "cell_type": "code",
   "execution_count": 9,
   "metadata": {
    "execution": {
     "iopub.execute_input": "2021-01-12T08:14:25.729336Z",
     "iopub.status.busy": "2021-01-12T08:14:25.728365Z",
     "iopub.status.idle": "2021-01-12T08:14:25.731822Z",
     "shell.execute_reply": "2021-01-12T08:14:25.731280Z"
    },
    "papermill": {
     "duration": 0.029232,
     "end_time": "2021-01-12T08:14:25.731945",
     "exception": false,
     "start_time": "2021-01-12T08:14:25.702713",
     "status": "completed"
    },
    "tags": []
   },
   "outputs": [],
   "source": [
    "def preprocess(text, stem=False):\n",
    "    text = re.sub(text_cleaning_re, ' ', str(text).lower()).strip()\n",
    "    tokens = []\n",
    "    for token in text.split():\n",
    "        if token not in stop_words:\n",
    "            if stem:\n",
    "                tokens.append(stemmer.stem(token))\n",
    "            else:\n",
    "                tokens.append(token)\n",
    "    return \" \".join(tokens)"
   ]
  },
  {
   "cell_type": "code",
   "execution_count": 10,
   "metadata": {
    "execution": {
     "iopub.execute_input": "2021-01-12T08:14:25.775018Z",
     "iopub.status.busy": "2021-01-12T08:14:25.774195Z",
     "iopub.status.idle": "2021-01-12T08:14:25.777958Z",
     "shell.execute_reply": "2021-01-12T08:14:25.777198Z"
    },
    "papermill": {
     "duration": 0.029094,
     "end_time": "2021-01-12T08:14:25.778073",
     "exception": false,
     "start_time": "2021-01-12T08:14:25.748979",
     "status": "completed"
    },
    "tags": []
   },
   "outputs": [],
   "source": [
    "from sklearn.preprocessing import LabelEncoder\n",
    "X = df.v2\n",
    "Y = df.v1\n",
    "le = LabelEncoder()\n",
    "Y = le.fit_transform(Y)\n",
    "Y = Y.reshape(-1,1)"
   ]
  },
  {
   "cell_type": "code",
   "execution_count": 11,
   "metadata": {
    "execution": {
     "iopub.execute_input": "2021-01-12T08:14:25.818969Z",
     "iopub.status.busy": "2021-01-12T08:14:25.817813Z",
     "iopub.status.idle": "2021-01-12T08:14:25.823118Z",
     "shell.execute_reply": "2021-01-12T08:14:25.823708Z"
    },
    "papermill": {
     "duration": 0.028607,
     "end_time": "2021-01-12T08:14:25.823876",
     "exception": false,
     "start_time": "2021-01-12T08:14:25.795269",
     "status": "completed"
    },
    "tags": []
   },
   "outputs": [],
   "source": [
    "x_train,x_test,y_train,y_test = train_test_split(X,Y,test_size=0.15)"
   ]
  },
  {
   "cell_type": "code",
   "execution_count": 12,
   "metadata": {
    "execution": {
     "iopub.execute_input": "2021-01-12T08:14:25.862059Z",
     "iopub.status.busy": "2021-01-12T08:14:25.861101Z",
     "iopub.status.idle": "2021-01-12T08:14:26.131609Z",
     "shell.execute_reply": "2021-01-12T08:14:26.132321Z"
    },
    "papermill": {
     "duration": 0.291455,
     "end_time": "2021-01-12T08:14:26.132491",
     "exception": false,
     "start_time": "2021-01-12T08:14:25.841036",
     "status": "completed"
    },
    "tags": []
   },
   "outputs": [],
   "source": [
    "max_words = 1000\n",
    "max_len = 150\n",
    "tok = Tokenizer(num_words=max_words)\n",
    "tok.fit_on_texts(x_train)\n",
    "sequences = tok.texts_to_sequences(x_train)\n",
    "sequences_matrix = sequence.pad_sequences(sequences,maxlen=max_len)"
   ]
  },
  {
   "cell_type": "code",
   "execution_count": 13,
   "metadata": {
    "execution": {
     "iopub.execute_input": "2021-01-12T08:14:26.174584Z",
     "iopub.status.busy": "2021-01-12T08:14:26.173518Z",
     "iopub.status.idle": "2021-01-12T08:14:26.176772Z",
     "shell.execute_reply": "2021-01-12T08:14:26.177268Z"
    },
    "papermill": {
     "duration": 0.027295,
     "end_time": "2021-01-12T08:14:26.177417",
     "exception": false,
     "start_time": "2021-01-12T08:14:26.150122",
     "status": "completed"
    },
    "tags": []
   },
   "outputs": [],
   "source": [
    "from tensorflow.keras.layers import Conv1D, Bidirectional, LSTM, Dense, Input, Dropout\n",
    "from tensorflow.keras.layers import SpatialDropout1D\n",
    "from tensorflow.keras.callbacks import ModelCheckpoint"
   ]
  },
  {
   "cell_type": "code",
   "execution_count": 14,
   "metadata": {
    "execution": {
     "iopub.execute_input": "2021-01-12T08:14:26.222867Z",
     "iopub.status.busy": "2021-01-12T08:14:26.221738Z",
     "iopub.status.idle": "2021-01-12T08:14:26.226136Z",
     "shell.execute_reply": "2021-01-12T08:14:26.225433Z"
    },
    "papermill": {
     "duration": 0.030831,
     "end_time": "2021-01-12T08:14:26.226253",
     "exception": false,
     "start_time": "2021-01-12T08:14:26.195422",
     "status": "completed"
    },
    "tags": []
   },
   "outputs": [],
   "source": [
    "def RNN():\n",
    "    inputs = Input(name='inputs',shape=[max_len])\n",
    "    layer = Embedding(max_words,50,input_length=max_len)(inputs)\n",
    "    layer = LSTM(64)(layer)\n",
    "    layer = Dense(256,name='FC1')(layer)\n",
    "    layer = Activation('relu')(layer)\n",
    "    layer = Dropout(0.5)(layer)\n",
    "    layer = Dense(1,name='out_layer')(layer)\n",
    "    layer = Activation('sigmoid')(layer)\n",
    "    model = Model(inputs=inputs,outputs=layer)\n",
    "    return model"
   ]
  },
  {
   "cell_type": "code",
   "execution_count": 15,
   "metadata": {
    "execution": {
     "iopub.execute_input": "2021-01-12T08:14:26.269729Z",
     "iopub.status.busy": "2021-01-12T08:14:26.269015Z",
     "iopub.status.idle": "2021-01-12T08:14:26.793371Z",
     "shell.execute_reply": "2021-01-12T08:14:26.792246Z"
    },
    "papermill": {
     "duration": 0.549361,
     "end_time": "2021-01-12T08:14:26.793552",
     "exception": false,
     "start_time": "2021-01-12T08:14:26.244191",
     "status": "completed"
    },
    "tags": []
   },
   "outputs": [
    {
     "name": "stdout",
     "output_type": "stream",
     "text": [
      "Model: \"functional_1\"\n",
      "_________________________________________________________________\n",
      "Layer (type)                 Output Shape              Param #   \n",
      "=================================================================\n",
      "inputs (InputLayer)          [(None, 150)]             0         \n",
      "_________________________________________________________________\n",
      "embedding (Embedding)        (None, 150, 50)           50000     \n",
      "_________________________________________________________________\n",
      "lstm (LSTM)                  (None, 64)                29440     \n",
      "_________________________________________________________________\n",
      "FC1 (Dense)                  (None, 256)               16640     \n",
      "_________________________________________________________________\n",
      "activation (Activation)      (None, 256)               0         \n",
      "_________________________________________________________________\n",
      "dropout (Dropout)            (None, 256)               0         \n",
      "_________________________________________________________________\n",
      "out_layer (Dense)            (None, 1)                 257       \n",
      "_________________________________________________________________\n",
      "activation_1 (Activation)    (None, 1)                 0         \n",
      "=================================================================\n",
      "Total params: 96,337\n",
      "Trainable params: 96,337\n",
      "Non-trainable params: 0\n",
      "_________________________________________________________________\n"
     ]
    }
   ],
   "source": [
    "model = RNN()\n",
    "model.summary()\n",
    "model.compile(loss='binary_crossentropy',optimizer=RMSprop(),metrics=['accuracy'])"
   ]
  },
  {
   "cell_type": "code",
   "execution_count": 16,
   "metadata": {
    "execution": {
     "iopub.execute_input": "2021-01-12T08:14:26.837590Z",
     "iopub.status.busy": "2021-01-12T08:14:26.836879Z",
     "iopub.status.idle": "2021-01-12T08:14:47.377848Z",
     "shell.execute_reply": "2021-01-12T08:14:47.378340Z"
    },
    "papermill": {
     "duration": 20.566493,
     "end_time": "2021-01-12T08:14:47.378505",
     "exception": false,
     "start_time": "2021-01-12T08:14:26.812012",
     "status": "completed"
    },
    "tags": []
   },
   "outputs": [
    {
     "name": "stdout",
     "output_type": "stream",
     "text": [
      "Epoch 1/10\n",
      "30/30 [==============================] - 5s 159ms/step - loss: 0.3067 - accuracy: 0.8878 - val_loss: 0.1508 - val_accuracy: 0.9515\n",
      "Epoch 2/10\n",
      "30/30 [==============================] - 4s 137ms/step - loss: 0.0780 - accuracy: 0.9802 - val_loss: 0.0571 - val_accuracy: 0.9842\n",
      "Epoch 3/10\n",
      "30/30 [==============================] - 4s 149ms/step - loss: 0.0421 - accuracy: 0.9884 - val_loss: 0.0512 - val_accuracy: 0.9831\n",
      "Epoch 4/10\n",
      "30/30 [==============================] - 4s 137ms/step - loss: 0.0292 - accuracy: 0.9926 - val_loss: 0.0880 - val_accuracy: 0.9747\n"
     ]
    },
    {
     "data": {
      "text/plain": [
       "<tensorflow.python.keras.callbacks.History at 0x7f8da075c950>"
      ]
     },
     "execution_count": 16,
     "metadata": {},
     "output_type": "execute_result"
    }
   ],
   "source": [
    "model.fit(sequences_matrix,y_train,batch_size=128,epochs=10,validation_split=0.2,callbacks=[EarlyStopping(monitor='val_loss',min_delta=0.0001)])"
   ]
  },
  {
   "cell_type": "code",
   "execution_count": 17,
   "metadata": {
    "execution": {
     "iopub.execute_input": "2021-01-12T08:14:47.506141Z",
     "iopub.status.busy": "2021-01-12T08:14:47.505407Z",
     "iopub.status.idle": "2021-01-12T08:14:47.532852Z",
     "shell.execute_reply": "2021-01-12T08:14:47.533461Z"
    },
    "papermill": {
     "duration": 0.095528,
     "end_time": "2021-01-12T08:14:47.533619",
     "exception": false,
     "start_time": "2021-01-12T08:14:47.438091",
     "status": "completed"
    },
    "tags": []
   },
   "outputs": [],
   "source": [
    "test_sequences = tok.texts_to_sequences(x_test)\n",
    "test_sequences_matrix = sequence.pad_sequences(test_sequences,maxlen=max_len)"
   ]
  },
  {
   "cell_type": "code",
   "execution_count": 18,
   "metadata": {
    "execution": {
     "iopub.execute_input": "2021-01-12T08:14:47.660469Z",
     "iopub.status.busy": "2021-01-12T08:14:47.659311Z",
     "iopub.status.idle": "2021-01-12T08:14:48.236916Z",
     "shell.execute_reply": "2021-01-12T08:14:48.236287Z"
    },
    "papermill": {
     "duration": 0.643483,
     "end_time": "2021-01-12T08:14:48.237039",
     "exception": false,
     "start_time": "2021-01-12T08:14:47.593556",
     "status": "completed"
    },
    "tags": []
   },
   "outputs": [
    {
     "name": "stdout",
     "output_type": "stream",
     "text": [
      "27/27 [==============================] - 1s 19ms/step - loss: 0.0912 - accuracy: 0.9725\n"
     ]
    }
   ],
   "source": [
    "accr = model.evaluate(test_sequences_matrix,y_test)"
   ]
  },
  {
   "cell_type": "code",
   "execution_count": 19,
   "metadata": {
    "execution": {
     "iopub.execute_input": "2021-01-12T08:14:48.373100Z",
     "iopub.status.busy": "2021-01-12T08:14:48.372223Z",
     "iopub.status.idle": "2021-01-12T08:14:48.375135Z",
     "shell.execute_reply": "2021-01-12T08:14:48.375683Z"
    },
    "papermill": {
     "duration": 0.074509,
     "end_time": "2021-01-12T08:14:48.375870",
     "exception": false,
     "start_time": "2021-01-12T08:14:48.301361",
     "status": "completed"
    },
    "tags": []
   },
   "outputs": [
    {
     "name": "stdout",
     "output_type": "stream",
     "text": [
      "Test set\n",
      "  Loss: 0.091\n",
      "  Accuracy: 0.972\n"
     ]
    }
   ],
   "source": [
    "print('Test set\\n  Loss: {:0.3f}\\n  Accuracy: {:0.3f}'.format(accr[0],accr[1]))"
   ]
  }
 ],
 "metadata": {
  "kernelspec": {
   "display_name": "Python 3",
   "language": "python",
   "name": "python3"
  },
  "language_info": {
   "codemirror_mode": {
    "name": "ipython",
    "version": 3
   },
   "file_extension": ".py",
   "mimetype": "text/x-python",
   "name": "python",
   "nbconvert_exporter": "python",
   "pygments_lexer": "ipython3",
   "version": "3.7.6"
  },
  "papermill": {
   "duration": 37.343216,
   "end_time": "2021-01-12T08:14:48.549259",
   "environment_variables": {},
   "exception": null,
   "input_path": "__notebook__.ipynb",
   "output_path": "__notebook__.ipynb",
   "parameters": {},
   "start_time": "2021-01-12T08:14:11.206043",
   "version": "2.1.0"
  }
 },
 "nbformat": 4,
 "nbformat_minor": 4
}
